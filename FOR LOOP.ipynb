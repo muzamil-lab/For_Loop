{
 "cells": [
  {
   "cell_type": "markdown",
   "id": "be06569d",
   "metadata": {},
   "source": [
    "In any language you will be able to find out the data structure >>>>you will able to find out the collection >>>> Collection are nothing but kind of the structure where i will be able to hold a multiple a different different khid of a data\n",
    "Again here inside a python you will able to find out the multiple different different kind of the collection where you try to hold the varity of a data\n",
    "> List\n",
    ">Set\n",
    ">duples\n",
    ">string"
   ]
  },
  {
   "cell_type": "markdown",
   "id": "49615039",
   "metadata": {},
   "source": [
    "# String"
   ]
  },
  {
   "cell_type": "code",
   "execution_count": 2,
   "id": "86b9e84f",
   "metadata": {},
   "outputs": [],
   "source": [
    "s = \"my name is muzamil\""
   ]
  },
  {
   "cell_type": "code",
   "execution_count": 3,
   "id": "fdcdc54f",
   "metadata": {},
   "outputs": [
    {
     "data": {
      "text/plain": [
       "'my name is muzamil'"
      ]
     },
     "execution_count": 3,
     "metadata": {},
     "output_type": "execute_result"
    }
   ],
   "source": [
    "s"
   ]
  },
  {
   "cell_type": "code",
   "execution_count": 5,
   "id": "474d259f",
   "metadata": {},
   "outputs": [
    {
     "data": {
      "text/plain": [
       "'name is'"
      ]
     },
     "execution_count": 5,
     "metadata": {},
     "output_type": "execute_result"
    }
   ],
   "source": [
    "s[3:10]"
   ]
  },
  {
   "cell_type": "markdown",
   "id": "f12cd390",
   "metadata": {},
   "source": [
    "Start Point: End Point: Step Size"
   ]
  },
  {
   "cell_type": "code",
   "execution_count": 10,
   "id": "f10ed8b9",
   "metadata": {},
   "outputs": [
    {
     "data": {
      "text/plain": [
       "'nm s'"
      ]
     },
     "execution_count": 10,
     "metadata": {},
     "output_type": "execute_result"
    }
   ],
   "source": [
    "s[3:10:2]"
   ]
  },
  {
   "cell_type": "code",
   "execution_count": 11,
   "id": "b63fda61",
   "metadata": {},
   "outputs": [
    {
     "data": {
      "text/plain": [
       "'my name is muzamil'"
      ]
     },
     "execution_count": 11,
     "metadata": {},
     "output_type": "execute_result"
    }
   ],
   "source": [
    "s[::1]"
   ]
  },
  {
   "cell_type": "markdown",
   "id": "f2665f7b",
   "metadata": {},
   "source": [
    " Revirse Order"
   ]
  },
  {
   "cell_type": "code",
   "execution_count": 12,
   "id": "2eea3c46",
   "metadata": {},
   "outputs": [
    {
     "data": {
      "text/plain": [
       "' si eman'"
      ]
     },
     "execution_count": 12,
     "metadata": {},
     "output_type": "execute_result"
    }
   ],
   "source": [
    "s[10:2:-1]"
   ]
  },
  {
   "cell_type": "code",
   "execution_count": 13,
   "id": "5f095a50",
   "metadata": {},
   "outputs": [
    {
     "data": {
      "text/plain": [
       "'limazum si eman ym'"
      ]
     },
     "execution_count": 13,
     "metadata": {},
     "output_type": "execute_result"
    }
   ],
   "source": [
    "s[::-1]"
   ]
  },
  {
   "cell_type": "code",
   "execution_count": 14,
   "id": "487200b3",
   "metadata": {},
   "outputs": [],
   "source": [
    "s = \"MUZAMIL\""
   ]
  },
  {
   "cell_type": "code",
   "execution_count": 15,
   "id": "6bfea0ee",
   "metadata": {},
   "outputs": [
    {
     "data": {
      "text/plain": [
       "'U'"
      ]
     },
     "execution_count": 15,
     "metadata": {},
     "output_type": "execute_result"
    }
   ],
   "source": [
    "s[-6]"
   ]
  },
  {
   "cell_type": "code",
   "execution_count": 16,
   "id": "2149f2ed",
   "metadata": {},
   "outputs": [
    {
     "data": {
      "text/plain": [
       "'A'"
      ]
     },
     "execution_count": 16,
     "metadata": {},
     "output_type": "execute_result"
    }
   ],
   "source": [
    "s[3]"
   ]
  },
  {
   "cell_type": "code",
   "execution_count": 17,
   "id": "41bf8449",
   "metadata": {},
   "outputs": [
    {
     "data": {
      "text/plain": [
       "'Z'"
      ]
     },
     "execution_count": 17,
     "metadata": {},
     "output_type": "execute_result"
    }
   ],
   "source": [
    "s[2]"
   ]
  },
  {
   "cell_type": "code",
   "execution_count": 21,
   "id": "aaed90db",
   "metadata": {},
   "outputs": [
    {
     "data": {
      "text/plain": [
       "'L'"
      ]
     },
     "execution_count": 21,
     "metadata": {},
     "output_type": "execute_result"
    }
   ],
   "source": [
    "s[6]"
   ]
  },
  {
   "cell_type": "markdown",
   "id": "73ab04b6",
   "metadata": {},
   "source": [
    "#FOR LOOP "
   ]
  },
  {
   "cell_type": "code",
   "execution_count": 22,
   "id": "a57d137e",
   "metadata": {},
   "outputs": [
    {
     "data": {
      "text/plain": [
       "'MUZAMIL'"
      ]
     },
     "execution_count": 22,
     "metadata": {},
     "output_type": "execute_result"
    }
   ],
   "source": [
    "s"
   ]
  },
  {
   "cell_type": "code",
   "execution_count": 23,
   "id": "72407b96",
   "metadata": {},
   "outputs": [
    {
     "name": "stdout",
     "output_type": "stream",
     "text": [
      "M\n",
      "U\n",
      "Z\n",
      "A\n",
      "M\n",
      "I\n",
      "L\n"
     ]
    }
   ],
   "source": [
    "for i in s:\n",
    "    print(i)"
   ]
  },
  {
   "cell_type": "code",
   "execution_count": 9,
   "id": "63180ee1",
   "metadata": {},
   "outputs": [],
   "source": [
    "s= \"MUZAMMIL\""
   ]
  },
  {
   "cell_type": "code",
   "execution_count": 10,
   "id": "52585d9b",
   "metadata": {},
   "outputs": [
    {
     "data": {
      "text/plain": [
       "'MUZAMMIL'"
      ]
     },
     "execution_count": 10,
     "metadata": {},
     "output_type": "execute_result"
    }
   ],
   "source": [
    "s"
   ]
  },
  {
   "cell_type": "code",
   "execution_count": 12,
   "id": "3b85d6d5",
   "metadata": {},
   "outputs": [
    {
     "name": "stdout",
     "output_type": "stream",
     "text": [
      "WELLCOME\n",
      "M\n",
      "U\n",
      "Z\n",
      "A\n",
      "WELLCOME\n",
      "M\n",
      "WELLCOME\n",
      "M\n",
      "I\n",
      "L\n"
     ]
    }
   ],
   "source": [
    "for i in s:\n",
    "    if i == 'M':\n",
    "        print(\"WELLCOME\")\n",
    "    print (i)"
   ]
  },
  {
   "cell_type": "code",
   "execution_count": 28,
   "id": "5744ccd3",
   "metadata": {},
   "outputs": [
    {
     "name": "stdout",
     "output_type": "stream",
     "text": [
      "THIS IS MY WEBSITE\n",
      "THIS IS MY WEBSITE\n",
      "THIS IS MY WEBSITE\n",
      "THIS IS MY WEBSITE\n",
      "THIS IS MY WEBSITE\n",
      "THIS IS MY WEBSITE\n",
      "THIS IS MY WEBSITE\n",
      "THIS IS MY WEBSITE\n"
     ]
    }
   ],
   "source": [
    "for i in s:\n",
    "    if i==\"O\":\n",
    "        break\n",
    "        print(i)\n",
    "    else:\n",
    "        print(\"THIS IS MY WEBSITE\")"
   ]
  },
  {
   "cell_type": "code",
   "execution_count": 24,
   "id": "3c288f3c",
   "metadata": {},
   "outputs": [
    {
     "data": {
      "text/plain": [
       "'MUZAMMIL'"
      ]
     },
     "execution_count": 24,
     "metadata": {},
     "output_type": "execute_result"
    }
   ],
   "source": [
    "s"
   ]
  },
  {
   "cell_type": "code",
   "execution_count": 29,
   "id": "84759736",
   "metadata": {},
   "outputs": [
    {
     "name": "stdout",
     "output_type": "stream",
     "text": [
      "M\n",
      "U\n",
      "Z\n",
      "A\n",
      "M\n",
      "M\n",
      "I\n"
     ]
    }
   ],
   "source": [
    "for i in s:\n",
    "    if i==\"L\":\n",
    "        break\n",
    "    print(i)\n",
    "else:\n",
    "    if i =='U':\n",
    "        print(\"WELLCOME TO MY WEBSITE\")\n",
    "    print(\"WHAT IS YOUR NAME\")"
   ]
  },
  {
   "cell_type": "code",
   "execution_count": 33,
   "id": "a03f1a2f",
   "metadata": {},
   "outputs": [
    {
     "name": "stdout",
     "output_type": "stream",
     "text": [
      "M\n",
      "U\n",
      "Z\n",
      "A\n",
      "M\n",
      "M\n",
      "L\n",
      "WELLCOME TO MY WEBSITE\n"
     ]
    }
   ],
   "source": [
    "for i in s:\n",
    "    if i == \"I\":\n",
    "        continue\n",
    "    print(i)\n",
    "else:\n",
    "    print(\"WELLCOME TO MY WEBSITE\")"
   ]
  },
  {
   "cell_type": "markdown",
   "id": "3663acc6",
   "metadata": {},
   "source": [
    "continue: contiune means that to pass a contorl to the main loop"
   ]
  },
  {
   "cell_type": "code",
   "execution_count": 35,
   "id": "38f7690c",
   "metadata": {},
   "outputs": [],
   "source": [
    "s = \"MUZAMIL\"\n",
    "ss =\"\"\n",
    "for i in range(len(s)):\n",
    "    if s[i] == 'M':\n",
    "        continue\n",
    "    else:\n",
    "        ss = ss + s[i]"
   ]
  },
  {
   "cell_type": "code",
   "execution_count": 36,
   "id": "d7e930d2",
   "metadata": {},
   "outputs": [
    {
     "data": {
      "text/plain": [
       "'UZAIL'"
      ]
     },
     "execution_count": 36,
     "metadata": {},
     "output_type": "execute_result"
    }
   ],
   "source": [
    "ss"
   ]
  },
  {
   "cell_type": "code",
   "execution_count": 37,
   "id": "2ddc56af",
   "metadata": {},
   "outputs": [],
   "source": [
    "s = \"MUZAMIL\"\n",
    "ss =\"\"\n",
    "for i in range(len(s)):\n",
    "    if s[i] == 'P':\n",
    "        continue\n",
    "    else:\n",
    "        ss = ss + s[i]"
   ]
  },
  {
   "cell_type": "code",
   "execution_count": 38,
   "id": "2214809e",
   "metadata": {},
   "outputs": [
    {
     "data": {
      "text/plain": [
       "'MUZAMIL'"
      ]
     },
     "execution_count": 38,
     "metadata": {},
     "output_type": "execute_result"
    }
   ],
   "source": [
    "ss"
   ]
  },
  {
   "cell_type": "code",
   "execution_count": 39,
   "id": "5a0dca1f",
   "metadata": {},
   "outputs": [
    {
     "data": {
      "text/plain": [
       "7"
      ]
     },
     "execution_count": 39,
     "metadata": {},
     "output_type": "execute_result"
    }
   ],
   "source": [
    "len(s)"
   ]
  },
  {
   "cell_type": "code",
   "execution_count": 41,
   "id": "ab019e9e",
   "metadata": {},
   "outputs": [
    {
     "name": "stdout",
     "output_type": "stream",
     "text": [
      "+++++++++++++++++++++++++++++++++++++++++++++"
     ]
    }
   ],
   "source": [
    "n = 9\n",
    "for i in range(0,n):\n",
    "    for j in range(0,i+1):\n",
    "        print(\"+\", end = \"\")\n",
    "            "
   ]
  },
  {
   "cell_type": "code",
   "execution_count": 46,
   "id": "5d319933",
   "metadata": {},
   "outputs": [
    {
     "name": "stdout",
     "output_type": "stream",
     "text": [
      "+\r\n",
      "++\r\n",
      "+++\r\n",
      "++++\r\n",
      "+++++\r\n",
      "++++++\r\n",
      "+++++++\r\n",
      "++++++++\r\n",
      "+++++++++\r\n"
     ]
    }
   ],
   "source": [
    "n = 9\n",
    "for i in range(0,n):\n",
    "    for j in range(0, i +1):\n",
    "        print(\"+\" , end = \"\")\n",
    "    print(\"\\r\")"
   ]
  },
  {
   "cell_type": "code",
   "execution_count": 56,
   "id": "4eaced36",
   "metadata": {
    "collapsed": true
   },
   "outputs": [
    {
     "name": "stdout",
     "output_type": "stream",
     "text": [
      "########\r\n",
      "########\r\n",
      "########\r\n",
      "########\r\n",
      "########\r\n",
      "########\r\n",
      "########\r\n",
      "########\r\n",
      "########\r\n"
     ]
    }
   ],
   "source": [
    "n = 9\n",
    "m = 8\n",
    "for i in range(0 ,n):\n",
    "    for j in range(0 ,m):\n",
    "        for k in range(0 , n-m):\n",
    "            print(\"#\", end = \"\")\n",
    "    print(\"\\r\")"
   ]
  },
  {
   "cell_type": "markdown",
   "id": "d80e4b5e",
   "metadata": {},
   "source": [
    "problem statemnet: Solve this problem"
   ]
  },
  {
   "cell_type": "code",
   "execution_count": 80,
   "id": "b62fa0f2",
   "metadata": {},
   "outputs": [
    {
     "name": "stdout",
     "output_type": "stream",
     "text": [
      " ENTER ANY NUMBER --7\n",
      "*************\n",
      " ***********\n",
      "  *********\n",
      "   *******\n",
      "    *****\n",
      "     ***\n",
      "      *\n"
     ]
    }
   ],
   "source": [
    "n = int(input(\" ENTER ANY NUMBER --\"))\n",
    "for i in range(n, 0 ,-1):\n",
    "    for j in range(n-i):\n",
    "        print(\" \", end = '')\n",
    "    for j in range(2*i-1):\n",
    "        print(\"*\" , end = '')\n",
    "    print(\"\\r\")"
   ]
  },
  {
   "cell_type": "code",
   "execution_count": null,
   "id": "e3d923f1",
   "metadata": {},
   "outputs": [],
   "source": []
  }
 ],
 "metadata": {
  "kernelspec": {
   "display_name": "Python 3",
   "language": "python",
   "name": "python3"
  },
  "language_info": {
   "codemirror_mode": {
    "name": "ipython",
    "version": 3
   },
   "file_extension": ".py",
   "mimetype": "text/x-python",
   "name": "python",
   "nbconvert_exporter": "python",
   "pygments_lexer": "ipython3",
   "version": "3.8.8"
  }
 },
 "nbformat": 4,
 "nbformat_minor": 5
}
